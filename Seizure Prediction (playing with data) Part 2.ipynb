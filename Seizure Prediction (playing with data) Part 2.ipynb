{
 "cells": [
  {
   "cell_type": "code",
   "execution_count": 1,
   "metadata": {
    "collapsed": true
   },
   "outputs": [],
   "source": [
    "import scipy.io\n",
    "import matplotlib.pyplot as plt\n",
    "\n",
    "dataDir = '/Users/Gale/Documents/data';\n",
    "featureDir = '/Users/Gale/Documents/Seizure-Prediction/features';\n",
    "\n",
    "# Average and std of every channel for every training sample (in this case for the first patient)\n",
    "\n",
    "average_1 = scipy.io.loadmat('/Users/Gale/Documents/Seizure-Prediction/features/average_train_1.mat');\n",
    "std_1 = scipy.io.loadmat('/Users/Gale/Documents/Seizure-Prediction/features/std_train_1.mat');\n",
    "\n",
    "Y_1 = scipy.io.loadmat('/Users/Gale/Documents/Seizure-Prediction/features/Y_1.mat');\n",
    "\n",
    "numSamples = 720;\n",
    "\n",
    "from pylab import rcParams"
   ]
  },
  {
   "cell_type": "code",
   "execution_count": null,
   "metadata": {
    "collapsed": true
   },
   "outputs": [],
   "source": []
  }
 ],
 "metadata": {
  "kernelspec": {
   "display_name": "Python 3",
   "language": "python",
   "name": "python3"
  },
  "language_info": {
   "codemirror_mode": {
    "name": "ipython",
    "version": 3
   },
   "file_extension": ".py",
   "mimetype": "text/x-python",
   "name": "python",
   "nbconvert_exporter": "python",
   "pygments_lexer": "ipython3",
   "version": "3.5.1"
  }
 },
 "nbformat": 4,
 "nbformat_minor": 1
}
